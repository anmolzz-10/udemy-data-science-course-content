{
 "cells": [
  {
   "cell_type": "markdown",
   "metadata": {},
   "source": [
    "# Module: Exception Handling Assignments\n",
    "## Lesson: Exception Handling with try, except, and finally\n",
    "### Assignment 1: Handling Division by Zero\n",
    "\n",
    "Write a function that takes two integers as input and returns their division. Use try, except, and finally blocks to handle division by zero and print an appropriate message.\n",
    "\n",
    "### Assignment 2: File Reading with Exception Handling\n",
    "\n",
    "Write a function that reads the contents of a file named `data.txt`. Use try, except, and finally blocks to handle file not found errors and ensure the file is properly closed.\n",
    "\n",
    "### Assignment 3: Handling Multiple Exceptions\n",
    "\n",
    "Write a function that takes a list of integers and returns their sum. Use try, except, and finally blocks to handle TypeError if a non-integer value is encountered and print an appropriate message.\n",
    "\n",
    "### Assignment 4: Exception Handling in User Input\n",
    "\n",
    "Write a function that prompts the user to enter an integer. Use try, except, and finally blocks to handle ValueError if the user enters a non-integer value and print an appropriate message.\n",
    "\n",
    "### Assignment 5: Exception Handling in Dictionary Access\n",
    "\n",
    "Write a function that takes a dictionary and a key as input and returns the value associated with the key. Use try, except, and finally blocks to handle KeyError if the key is not found in the dictionary and print an appropriate message.\n",
    "\n",
    "### Assignment 6: Nested Exception Handling\n",
    "\n",
    "Write a function that performs nested exception handling. It should first attempt to convert a string to an integer, and then attempt to divide by that integer. Use nested try, except, and finally blocks to handle ValueError and ZeroDivisionError and print appropriate messages.\n",
    "\n",
    "### Assignment 7: Exception Handling in List Operations\n",
    "\n",
    "Write a function that takes a list and an index as input and returns the element at the given index. Use try, except, and finally blocks to handle IndexError if the index is out of range and print an appropriate message.\n",
    "\n",
    "### Assignment 8: Exception Handling in Network Operations\n",
    "\n",
    "Write a function that attempts to open a URL and read its contents. Use try, except, and finally blocks to handle network-related errors and print an appropriate message.\n",
    "\n",
    "### Assignment 9: Exception Handling in JSON Parsing\n",
    "\n",
    "Write a function that attempts to parse a JSON string. Use try, except, and finally blocks to handle JSONDecodeError if the string is not a valid JSON and print an appropriate message.\n",
    "\n",
    "### Assignment 10: Custom Exception Handling\n",
    "\n",
    "Define a custom exception named `NegativeNumberError`. Write a function that raises this exception if a negative number is encountered in a list. Use try, except, and finally blocks to handle the custom exception and print an appropriate message.\n",
    "\n",
    "### Assignment 11: Exception Handling in Function Calls\n",
    "\n",
    "Write a function that calls another function which may raise an exception. Use try, except, and finally blocks to handle the exception and print an appropriate message.\n",
    "\n",
    "### Assignment 12: Exception Handling in Class Methods\n",
    "\n",
    "Define a class with a method that performs a division operation. Use try, except, and finally blocks within the method to handle division by zero and print an appropriate message.\n",
    "\n",
    "### Assignment 13: Exception Handling in Data Conversion\n",
    "\n",
    "Write a function that takes a list of strings and converts them to integers. Use try, except, and finally blocks to handle ValueError if a string cannot be converted and print an appropriate message.\n",
    "\n",
    "### Assignment 14: Exception Handling in List Comprehensions\n",
    "\n",
    "Write a function that uses a list comprehension to convert a list of strings to integers. Use try, except, and finally blocks within the list comprehension to handle ValueError and print an appropriate message.\n",
    "\n",
    "### Assignment 15: Exception Handling in File Writing\n",
    "\n",
    "Write a function that attempts to write a list of strings to a file. Use try, except, and finally blocks to handle IOError and ensure the file is properly closed."
   ]
  },
  {
   "cell_type": "code",
   "execution_count": 4,
   "id": "7e01ba33",
   "metadata": {},
   "outputs": [
    {
     "name": "stdout",
     "output_type": "stream",
     "text": [
      "execution completed\n",
      "0.5\n",
      "It can't be divided by 0!\n",
      "execution completed\n",
      "None\n"
     ]
    }
   ],
   "source": [
    "def divide(a,b):\n",
    "    try :\n",
    "        result= a/b\n",
    "    except ZeroDivisionError:\n",
    "        print(\"It can't be divided by 0!\")\n",
    "        result= None \n",
    "    except ValueError:\n",
    "        print(\"Entered number isn't valid\")\n",
    "        result= None\n",
    "    finally :\n",
    "        print(\"execution completed\")\n",
    "    return result\n",
    "print(divide(2,4))\n",
    "print(divide(2,0))"
   ]
  },
  {
   "cell_type": "code",
   "execution_count": 5,
   "id": "66df3a30",
   "metadata": {},
   "outputs": [
    {
     "name": "stdout",
     "output_type": "stream",
     "text": [
      "Error: [Errno 2] No such file or directory: 'data.txt'\n",
      "None\n"
     ]
    }
   ],
   "source": [
    "def read_file(filename):\n",
    "    try:\n",
    "        with open(filename,'r') as file:\n",
    "            content= file.read()\n",
    "            return content\n",
    "    except FileNotFoundError as e:\n",
    "        print(f'Error: {e}')\n",
    "    finally:\n",
    "        try:\n",
    "            file.close()\n",
    "        except NameError:\n",
    "            pass\n",
    "print(read_file('data.txt'))"
   ]
  },
  {
   "cell_type": "code",
   "execution_count": 9,
   "metadata": {},
   "outputs": [
    {
     "name": "stdout",
     "output_type": "stream",
     "text": [
      "Error: unsupported operand type(s) for +: 'int' and 'str'\n",
      "Execution completed\n",
      "None\n",
      "Execution completed\n",
      "10\n"
     ]
    }
   ],
   "source": [
    "def sum_list(lst):\n",
    "    total=0\n",
    "    try:\n",
    "        total= sum(lst)\n",
    "    except TypeError as e:\n",
    "        print(f'Error: {e}')\n",
    "        total=None\n",
    "    finally:\n",
    "        print(\"Execution completed\")\n",
    "    return total\n",
    "print(sum_list([1, 2, 3, 'a']))\n",
    "print(sum_list([1, 2, 3, 4]))\n"
   ]
  },
  {
   "cell_type": "code",
   "execution_count": 11,
   "id": "6e739b2b",
   "metadata": {},
   "outputs": [
    {
     "name": "stdout",
     "output_type": "stream",
     "text": [
      "Execution successful\n",
      "5\n"
     ]
    }
   ],
   "source": [
    "def get_integer():\n",
    "    try:\n",
    "        number=int(input(\"Enter an integer: \"))\n",
    "    except ValueError as e:\n",
    "        print(f'Error:{e}')\n",
    "        return None\n",
    "    finally:\n",
    "        print('Execution successful')\n",
    "    return number\n",
    "print(get_integer())"
   ]
  },
  {
   "cell_type": "code",
   "execution_count": 3,
   "id": "88622c7f",
   "metadata": {},
   "outputs": [
    {
     "name": "stdout",
     "output_type": "stream",
     "text": [
      "execution successful\n",
      "1\n",
      "Error:'x'\n",
      "execution successful\n",
      "None\n"
     ]
    }
   ],
   "source": [
    "def dict_value(d,key):\n",
    "    try:\n",
    "        value= d[key]\n",
    "    except KeyError as e:\n",
    "        print(f'Error:{e}')\n",
    "        return None\n",
    "    finally:\n",
    "        print(f'execution successful')\n",
    "    return value\n",
    "d = {'a': 1, 'b': 2, 'c': 3}\n",
    "print(dict_value(d,'a'))\n",
    "print(dict_value(d,'x'))"
   ]
  },
  {
   "cell_type": "code",
   "execution_count": 7,
   "id": "01fdff11",
   "metadata": {},
   "outputs": [
    {
     "name": "stdout",
     "output_type": "stream",
     "text": [
      "Conversion successful\n",
      "division by zero: Enter number greater than\n",
      "Division successful\n",
      "Overall execution success.\n",
      "None\n",
      "Error:invalid literal for int() with base 10: 'a'\n",
      "Conversion successful\n",
      "Overall execution success.\n",
      "None\n",
      "Conversion successful\n",
      "Division successful\n",
      "Overall execution success.\n",
      "5.0\n"
     ]
    }
   ],
   "source": [
    "def str_to_int(s):\n",
    "    try:\n",
    "        try:\n",
    "            num= int(s)\n",
    "        except ValueError as e:\n",
    "            print(f'Error:{e}')\n",
    "            num= None\n",
    "        finally:\n",
    "            print('Conversion successful')\n",
    "        if num is not None:\n",
    "            try:\n",
    "                result= 10/num\n",
    "            except ZeroDivisionError as e:\n",
    "                print(f'{e}: Enter number greater than')\n",
    "                result= None\n",
    "            finally:\n",
    "                print(\"Division successful\")\n",
    "                return result\n",
    "    finally:\n",
    "        print(\"Overall execution success.\")\n",
    "\n",
    "print(str_to_int('0'))  # None\n",
    "print(str_to_int('a'))  # None\n",
    "print(str_to_int('2'))"
   ]
  },
  {
   "cell_type": "code",
   "execution_count": 9,
   "id": "d22c91b1",
   "metadata": {},
   "outputs": [
    {
     "name": "stdout",
     "output_type": "stream",
     "text": [
      "Execution successful\n",
      "1\n",
      "Error:list index out of range\n",
      "Execution successful\n",
      "None\n"
     ]
    }
   ],
   "source": [
    "def handle_list(l,index):\n",
    "    try:\n",
    "        value= l[index]\n",
    "    except IndexError as e:\n",
    "        print(f'Error:{e}')\n",
    "        value= None\n",
    "    finally:\n",
    "        print(\"Execution successful\")\n",
    "    return value\n",
    "lst=[1,2,3,4,5]\n",
    "print(handle_list(lst,0))\n",
    "print(handle_list(lst,10))"
   ]
  },
  {
   "cell_type": "code",
   "execution_count": 13,
   "id": "73971989",
   "metadata": {},
   "outputs": [
    {
     "name": "stdout",
     "output_type": "stream",
     "text": [
      "Execution successful\n",
      "[23, 25]\n",
      "Error: invalid literal for int() with base 10: 'three'\n",
      "Execution successful\n",
      "None\n"
     ]
    }
   ],
   "source": [
    "def convert_to_integer(lst):\n",
    "    integers=[]\n",
    "    try:\n",
    "        for itm in lst:\n",
    "            integers.append(int(itm))\n",
    "    except ValueError as e:\n",
    "        print(f'Error: {e}')\n",
    "        integers= None\n",
    "    finally:\n",
    "        print(\"Execution successful\")\n",
    "    return integers\n",
    "lst=['23','25']\n",
    "print(convert_to_integer(lst))\n",
    "print(convert_to_integer(['1', '2', 'three', '4']))"
   ]
  },
  {
   "cell_type": "code",
   "execution_count": 14,
   "id": "43b6330d",
   "metadata": {},
   "outputs": [
    {
     "name": "stdout",
     "output_type": "stream",
     "text": [
      "Error :invalid literal for int() with base 10: 'three'\n",
      "Execution euccessful\n",
      "None\n"
     ]
    }
   ],
   "source": [
    "def convert_lst_to_int(l):\n",
    "    try:\n",
    "        new_list=[int(i) for i in l]\n",
    "    except ValueError as e:\n",
    "        print(f'Error :{e}')\n",
    "        return None\n",
    "    finally:\n",
    "        print(\"Execution euccessful\")\n",
    "    return new_list\n",
    "print(convert_lst_to_int(['1', '2', 'three', '4']))"
   ]
  }
 ],
 "metadata": {
  "kernelspec": {
   "display_name": "Python 3",
   "language": "python",
   "name": "python3"
  },
  "language_info": {
   "codemirror_mode": {
    "name": "ipython",
    "version": 3
   },
   "file_extension": ".py",
   "mimetype": "text/x-python",
   "name": "python",
   "nbconvert_exporter": "python",
   "pygments_lexer": "ipython3",
   "version": "3.12.0"
  }
 },
 "nbformat": 4,
 "nbformat_minor": 5
}
