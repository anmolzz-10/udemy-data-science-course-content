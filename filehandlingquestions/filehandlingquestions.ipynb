{
 "cells": [
  {
   "cell_type": "markdown",
   "metadata": {},
   "source": [
    "# Module: File Handling Assignments\n",
    "## Lesson: File Handling and Operations\n",
    "### Assignment 1: Reading a File\n",
    "\n",
    "Write a function that reads the contents of a file named `sample.txt` and prints each line.\n",
    "\n",
    "### Assignment 2: Writing to a File\n",
    "\n",
    "Write a function that writes a list of strings to a file named `output.txt`, with each string on a new line.\n",
    "\n",
    "### Assignment 3: Copying a File\n",
    "\n",
    "Write a function that copies the contents of a file named `source.txt` to a new file named `destination.txt`.\n",
    "\n",
    "### Assignment 4: Appending to a File\n",
    "\n",
    "Write a function that appends a given string to the end of a file named `log.txt`.\n",
    "\n",
    "### Assignment 5: Counting Words in a File\n",
    "\n",
    "Write a function that reads the contents of a file named `document.txt` and returns the number of words in the file.\n",
    "\n",
    "### Assignment 6: Finding and Replacing Text\n",
    "\n",
    "Write a function that finds and replaces all occurrences of a given word in a file named `data.txt` with another word.\n",
    "\n",
    "### Assignment 7: Reading a File in Reverse\n",
    "\n",
    "Write a function that reads the contents of a file named `reverse.txt` and prints each line in reverse order.\n",
    "\n",
    "### Assignment 8: Counting Lines, Words, and Characters\n",
    "\n",
    "Write a function that reads the contents of a file named `stats.txt` and returns the number of lines, words, and characters in the file.\n",
    "\n",
    "### Assignment 9: Merging Multiple Files\n",
    "\n",
    "Write a function that merges the contents of multiple files into a single file named `merged.txt`.\n",
    "\n",
    "### Assignment 10: Splitting a Large File\n",
    "\n",
    "Write a function that splits a large file named `large.txt` into smaller files of 100 lines each.\n",
    "\n",
    "### Assignment 11: Creating a Log File\n",
    "\n",
    "Write a function that creates a log file named `activity.log` and writes log messages with timestamps.\n",
    "\n",
    "### Assignment 12: Binary File Operations\n",
    "\n",
    "Write a function that reads a binary file named `image.bin` and writes its contents to another binary file named `copy_image.bin`.\n",
    "\n",
    "### Assignment 13: CSV File Operations\n",
    "\n",
    "Write a function that reads a CSV file named `data.csv` and prints its contents as a list of dictionaries.\n",
    "\n",
    "### Assignment 14: JSON File Operations\n",
    "\n",
    "Write a function that reads a JSON file named `data.json` and prints its contents as a Python dictionary.\n",
    "\n",
    "### Assignment 15: File Permission Handling\n",
    "\n",
    "Write a function that attempts to read a file named `protected.txt` and handles any permission errors gracefully by printing an error message."
   ]
  },
  {
   "cell_type": "code",
   "execution_count": 6,
   "metadata": {},
   "outputs": [
    {
     "name": "stdout",
     "output_type": "stream",
     "text": [
      "Hello How are you?\n",
      "Welcome to the course\n"
     ]
    }
   ],
   "source": [
    "with open('sample.txt','r') as file:\n",
    "    for line in file:\n",
    "        print(line.strip())"
   ]
  },
  {
   "cell_type": "code",
   "execution_count": 12,
   "id": "b5ee1d43",
   "metadata": {},
   "outputs": [
    {
     "name": "stdout",
     "output_type": "stream",
     "text": [
      "<class 'str'>\n"
     ]
    }
   ],
   "source": [
    "def write_file(lines, filename):\n",
    "    with open(filename,'w') as file:\n",
    "        for line in lines:\n",
    "            file.write(line+'\\n')\n",
    "write_file(['Hello', 'World'],'output.txt')"
   ]
  },
  {
   "cell_type": "code",
   "execution_count": 15,
   "id": "f400a930",
   "metadata": {},
   "outputs": [],
   "source": [
    "def copy_file(source_file,destination_file):\n",
    "    with open(source_file,'r') as src:\n",
    "        with open(destination_file,'w') as dest:\n",
    "            dest.write(src.read())\n",
    "copy_file('source.txt','destination.txt')"
   ]
  },
  {
   "cell_type": "code",
   "execution_count": 25,
   "id": "17315e7c",
   "metadata": {},
   "outputs": [],
   "source": [
    "def append_string(text,filename):\n",
    "    with open(filename,'a') as file:\n",
    "        file.write(text +'\\n')\n",
    "append_string('We are learning python.','log.txt')"
   ]
  },
  {
   "cell_type": "code",
   "execution_count": 29,
   "id": "c6490c75",
   "metadata": {},
   "outputs": [
    {
     "name": "stdout",
     "output_type": "stream",
     "text": [
      "10\n"
     ]
    }
   ],
   "source": [
    "def count_word(filename):\n",
    "    with open(filename,'r') as file:\n",
    "        text=file.read()\n",
    "        words= text.split()\n",
    "        return len(words)\n",
    "print(count_word('document.txt'))"
   ]
  },
  {
   "cell_type": "code",
   "execution_count": 32,
   "id": "2929ebd3",
   "metadata": {},
   "outputs": [],
   "source": [
    "def replace_word(oldword,newword,filename):\n",
    "    with open(filename,'r') as file:\n",
    "        text= file.read()\n",
    "    new_text= text.replace(oldword,newword)\n",
    "    with open(filename,'w') as file:\n",
    "        file.write(new_text)\n",
    "replace_word('Hello','Hey','data.txt')"
   ]
  },
  {
   "cell_type": "code",
   "execution_count": 35,
   "id": "e6381a8a",
   "metadata": {},
   "outputs": [],
   "source": [
    "def reverse_line(filename):\n",
    "    with open(filename,'r') as file:\n",
    "        lines= file.readlines()\n",
    "    for line in reversed(lines):\n",
    "        print(line.strip())\n",
    "reverse_line('reverse.txt')"
   ]
  },
  {
   "cell_type": "code",
   "execution_count": 37,
   "id": "0843cbbb",
   "metadata": {},
   "outputs": [
    {
     "data": {
      "text/plain": [
       "(3, 18, 45)"
      ]
     },
     "execution_count": 37,
     "metadata": {},
     "output_type": "execute_result"
    }
   ],
   "source": [
    "def count_txt(filename):\n",
    "    with open(filename,'r') as file:\n",
    "        lines= file.readlines()\n",
    "        words= sum(len(line.split()) for line in line)\n",
    "        character= sum(len(line) for line in lines)\n",
    "    return len(lines),words,character\n",
    "count_txt('stats.txt')"
   ]
  },
  {
   "cell_type": "code",
   "execution_count": 41,
   "id": "f7d65e08",
   "metadata": {},
   "outputs": [],
   "source": [
    "def merge_file(file_list,output_file):\n",
    "    with open(output_file,'w') as outfile:\n",
    "        for fname in file_list:\n",
    "            with open(fname,'r') as infile:\n",
    "                outfile.write(infile.read() +'\\n')\n",
    "merge_file(['file1.txt','file2.txt'],'mergedfile.txt')"
   ]
  },
  {
   "cell_type": "code",
   "execution_count": 4,
   "id": "5996f7c6",
   "metadata": {},
   "outputs": [],
   "source": [
    "def split_file(filename,lines_per_file):\n",
    "    with open(filename,'r') as file:\n",
    "        lines= file.readlines()\n",
    "    for i in range(0,len(lines),lines_per_file):\n",
    "        with open(f'{filename}_part{i//lines_per_file + 1}.txt', 'w') as part_file:\n",
    "            part_file.writelines(lines[i:i + lines_per_file])\n",
    "split_file('large.txt',100)"
   ]
  },
  {
   "cell_type": "code",
   "execution_count": 7,
   "id": "2a84676e",
   "metadata": {},
   "outputs": [
    {
     "name": "stdout",
     "output_type": "stream",
     "text": [
      "[{'name': 'krish', 'age': '28', 'language': 'hindi'}, {'name': 'anmol', 'age': '20', 'language': 'english'}]\n"
     ]
    }
   ],
   "source": [
    "import csv\n",
    "def read_csv(filename):\n",
    "    with open(filename,'r') as file:\n",
    "        reader = csv.DictReader(file)\n",
    "        return list(reader)\n",
    "print(read_csv('data.csv'))"
   ]
  },
  {
   "cell_type": "code",
   "execution_count": 19,
   "id": "22eeb585",
   "metadata": {},
   "outputs": [
    {
     "name": "stdout",
     "output_type": "stream",
     "text": [
      "{'employee': {'name': 'John', 'age': 30, 'city': 'New York'}}\n"
     ]
    }
   ],
   "source": [
    "import json\n",
    "\n",
    "def read_json(filename):\n",
    "    with open(filename, 'r') as file:\n",
    "        data = json.load(file)\n",
    "        return data\n",
    "\n",
    "# Test\n",
    "print(read_json('data.json'))"
   ]
  }
 ],
 "metadata": {
  "kernelspec": {
   "display_name": "Python 3",
   "language": "python",
   "name": "python3"
  },
  "language_info": {
   "codemirror_mode": {
    "name": "ipython",
    "version": 3
   },
   "file_extension": ".py",
   "mimetype": "text/x-python",
   "name": "python",
   "nbconvert_exporter": "python",
   "pygments_lexer": "ipython3",
   "version": "3.12.0"
  }
 },
 "nbformat": 4,
 "nbformat_minor": 5
}
