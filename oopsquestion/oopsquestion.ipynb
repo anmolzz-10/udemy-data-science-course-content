{
 "cells": [
  {
   "cell_type": "markdown",
   "metadata": {},
   "source": [
    "# Module: OOP Assignments\n",
    "## Lesson: Polymorphism, Abstraction, and Encapsulation\n",
    "### Assignment 1: Polymorphism with Methods\n",
    "\n",
    "Create a base class named `Shape` with a method `area`. Create two derived classes `Circle` and `Square` that override the `area` method. Create a list of `Shape` objects and call the `area` method on each object to demonstrate polymorphism.\n",
    "\n",
    "### Assignment 2: Polymorphism with Function Arguments\n",
    "\n",
    "Create a function named `describe_shape` that takes a `Shape` object as an argument and calls its `area` method. Create objects of `Circle` and `Square` classes and pass them to the `describe_shape` function.\n",
    "\n",
    "### Assignment 3: Abstract Base Class with Abstract Methods\n",
    "\n",
    "Create an abstract base class named `Vehicle` with an abstract method `start_engine`. Create derived classes `Car` and `Bike` that implement the `start_engine` method. Create objects of the derived classes and call the `start_engine` method.\n",
    "\n",
    "### Assignment 4: Abstract Base Class with Concrete Methods\n",
    "\n",
    "In the `Vehicle` class, add a concrete method `fuel_type` that returns a generic fuel type. Override this method in `Car` and `Bike` classes to return specific fuel types. Create objects of the derived classes and call the `fuel_type` method.\n",
    "\n",
    "### Assignment 5: Encapsulation with Private Attributes\n",
    "\n",
    "Create a class named `BankAccount` with private attributes `account_number` and `balance`. Add methods to deposit and withdraw money, and to check the balance. Ensure that the balance cannot be accessed directly.\n",
    "\n",
    "### Assignment 6: Encapsulation with Property Decorators\n",
    "\n",
    "In the `BankAccount` class, use property decorators to get and set the `balance` attribute. Ensure that the balance cannot be set to a negative value.\n",
    "\n",
    "### Assignment 7: Combining Encapsulation and Inheritance\n",
    "\n",
    "Create a base class named `Person` with private attributes `name` and `age`. Add methods to get and set these attributes. Create a derived class named `Student` that adds an attribute `student_id`. Create an object of the `Student` class and test the encapsulation.\n",
    "\n",
    "### Assignment 8: Polymorphism with Inheritance\n",
    "\n",
    "Create a base class named `Animal` with a method `speak`. Create two derived classes `Dog` and `Cat` that override the `speak` method. Create a list of `Animal` objects and call the `speak` method on each object to demonstrate polymorphism.\n",
    "\n",
    "### Assignment 9: Abstract Methods in Base Class\n",
    "\n",
    "Create an abstract base class named `Employee` with an abstract method `calculate_salary`. Create two derived classes `FullTimeEmployee` and `PartTimeEmployee` that implement the `calculate_salary` method. Create objects of the derived classes and call the `calculate_salary` method.\n",
    "\n",
    "### Assignment 10: Encapsulation in Data Classes\n",
    "\n",
    "Create a data class named `Product` with private attributes `product_id`, `name`, and `price`. Add methods to get and set these attributes. Ensure that the price cannot be set to a negative value.\n",
    "\n",
    "### Assignment 11: Polymorphism with Operator Overloading\n",
    "\n",
    "Create a class named `Vector` with attributes `x` and `y`. Overload the `+` operator to add two `Vector` objects. Create objects of the class and test the operator overloading.\n",
    "\n",
    "### Assignment 12: Abstract Properties\n",
    "\n",
    "Create an abstract base class named `Appliance` with an abstract property `power`. Create two derived classes `WashingMachine` and `Refrigerator` that implement the `power` property. Create objects of the derived classes and access the `power` property.\n",
    "\n",
    "### Assignment 13: Encapsulation in Class Hierarchies\n",
    "\n",
    "Create a base class named `Account` with private attributes `account_number` and `balance`. Add methods to get and set these attributes. Create a derived class named `SavingsAccount` that adds an attribute `interest_rate`. Create an object of the `SavingsAccount` class and test the encapsulation.\n",
    "\n",
    "### Assignment 14: Polymorphism with Multiple Inheritance\n",
    "\n",
    "Create a class named `Flyer` with a method `fly`. Create a class named `Swimmer` with a method `swim`. Create a class named `Superhero` that inherits from both `Flyer` and `Swimmer` and overrides both methods. Create an object of the `Superhero` class and call both methods.\n",
    "\n",
    "### Assignment 15: Abstract Methods and Multiple Inheritance\n",
    "\n",
    "Create an abstract base class named `Worker` with an abstract method `work`. Create two derived classes `Engineer` and `Doctor` that implement the `work` method. Create another derived class `Scientist` that inherits from both `Engineer` and `Doctor`. Create an object of the `Scientist` class and call the `work` method."
   ]
  },
  {
   "cell_type": "code",
   "execution_count": 4,
   "metadata": {},
   "outputs": [
    {
     "name": "stdout",
     "output_type": "stream",
     "text": [
      "12.56\n",
      "4\n",
      "50.24\n",
      "16\n"
     ]
    }
   ],
   "source": [
    "import math\n",
    "class Shape:\n",
    "    def area(self):\n",
    "        pass\n",
    "class Circle(Shape):\n",
    "    def __init__(self,radius):\n",
    "        self.radius= radius\n",
    "    def area(self):\n",
    "        return 3.14*self.radius**2\n",
    "class Square(Shape):\n",
    "    def __init__(self,side):\n",
    "        self.side= side\n",
    "    def area(self):\n",
    "        return self.side**2\n",
    "\n",
    "shapes= [Circle(2),Square(2),Circle(4),Square(4)]\n",
    "for shape in shapes:\n",
    "    print(shape.area())\n"
   ]
  },
  {
   "cell_type": "code",
   "execution_count": 6,
   "id": "0748aae3",
   "metadata": {},
   "outputs": [
    {
     "name": "stdout",
     "output_type": "stream",
     "text": [
      "16\n",
      "12.56\n"
     ]
    }
   ],
   "source": [
    "def describe_shape(shape):\n",
    "    return shape.area()\n",
    "\n",
    "square1= Square(4)\n",
    "circle1= Circle(2)\n",
    "print(describe_shape(square1))\n",
    "print(describe_shape(circle1))"
   ]
  },
  {
   "cell_type": "code",
   "execution_count": 7,
   "id": "5c803ccb",
   "metadata": {},
   "outputs": [
    {
     "name": "stdout",
     "output_type": "stream",
     "text": [
      "Bike engine\n",
      "None\n",
      "Car engine\n",
      "None\n"
     ]
    }
   ],
   "source": [
    "from abc import abstractmethod, ABC\n",
    "\n",
    "class Vehicle(ABC):\n",
    "    @abstractmethod\n",
    "    def start_engine(self):\n",
    "        pass\n",
    "class Car(Vehicle):\n",
    "    def start_engine(self):\n",
    "        print(\"Car engine\")\n",
    "class Bike(Vehicle):\n",
    "    def start_engine(self):\n",
    "        print(\"Bike engine\")\n",
    "\n",
    "bike1= Bike()\n",
    "car1= Car()\n",
    "print(bike1.start_engine())\n",
    "print(car1.start_engine())"
   ]
  },
  {
   "cell_type": "code",
   "execution_count": 8,
   "id": "b41b2cbc",
   "metadata": {},
   "outputs": [
    {
     "name": "stdout",
     "output_type": "stream",
     "text": [
      "Fuel tank is car\n",
      "None\n",
      "Fuel tank is bike\n",
      "None\n"
     ]
    }
   ],
   "source": [
    "from abc import abstractmethod, ABC\n",
    "\n",
    "class Vehicle(ABC):\n",
    "    @abstractmethod\n",
    "    def start_engine(self):\n",
    "        pass\n",
    "    def fuel_type(self):\n",
    "        print(\"Generic fuel\")\n",
    "class Car(Vehicle):\n",
    "    def start_engine(self):\n",
    "        print(\"Car engine\")\n",
    "    def fuel_type(self):\n",
    "        print(\"Fuel tank is car\")\n",
    "class Bike(Vehicle):\n",
    "    def start_engine(self):\n",
    "        print(\"Bike engine\")\n",
    "    def fuel_type(self):\n",
    "        print(\"Fuel tank is bike\")\n",
    "\n",
    "car= Car()\n",
    "bike= Bike()\n",
    "print(car.fuel_type())\n",
    "print(bike.fuel_type())"
   ]
  },
  {
   "cell_type": "code",
   "execution_count": 9,
   "id": "7a2398c4",
   "metadata": {},
   "outputs": [],
   "source": [
    "class BankAccount:\n",
    "    def __init__(self,account_number,balance):\n",
    "        self.__account_number= account_number\n",
    "        self.__balance= balance\n",
    "\n",
    "    def deposit(self,amount):\n",
    "        self.__balance+=amount\n",
    "    def withdraw(self,amount):\n",
    "        if self.__balance>amount:\n",
    "            self.__balance-=amount\n",
    "        else:\n",
    "            print(\"Insufficient balance\")\n",
    "    def show(self):\n",
    "        return self.__balance"
   ]
  },
  {
   "cell_type": "code",
   "execution_count": 12,
   "id": "fcc26c5a",
   "metadata": {},
   "outputs": [
    {
     "data": {
      "text/plain": [
       "2000"
      ]
     },
     "execution_count": 12,
     "metadata": {},
     "output_type": "execute_result"
    }
   ],
   "source": [
    "user= BankAccount(100,2000)\n",
    "user.deposit(1000)\n",
    "user.withdraw(1000)\n",
    "user.show()"
   ]
  },
  {
   "cell_type": "code",
   "execution_count": 26,
   "id": "c4003c24",
   "metadata": {},
   "outputs": [
    {
     "name": "stdout",
     "output_type": "stream",
     "text": [
      "1300\n"
     ]
    }
   ],
   "source": [
    "class BankAccount:\n",
    "    def __init__(self,account_number,balance):\n",
    "        self.__account_number= account_number\n",
    "        self.__balance= balance\n",
    "    def get_balance(self):\n",
    "        return self.__balance\n",
    "    def set_balance(self,amount):\n",
    "        if amount>0:\n",
    "            self.__balance= amount\n",
    "        else:\n",
    "            print(\"Insufficient balance\")\n",
    "    def deposit(self, amount):\n",
    "        self.__balance += amount\n",
    "\n",
    "    def withdraw(self, amount):\n",
    "        if amount > self.__balance:\n",
    "            print(\"Insufficient balance!\")\n",
    "        else:\n",
    "            self.__balance -= amount\n",
    "        \n",
    "\n",
    "account = BankAccount('12345678', 1000)\n",
    "account.deposit(500)\n",
    "account.withdraw(200)\n",
    "print(account.get_balance())# 1300\n",
    "account.balance = -500"
   ]
  },
  {
   "cell_type": "code",
   "execution_count": 23,
   "id": "8ed7d354",
   "metadata": {},
   "outputs": [
    {
     "data": {
      "text/plain": [
       "'Krish'"
      ]
     },
     "execution_count": 23,
     "metadata": {},
     "output_type": "execute_result"
    }
   ],
   "source": [
    "class Person:\n",
    "    def __init__(self,name,age):\n",
    "        self.__name= name\n",
    "        self.__age= age\n",
    "    \n",
    "    def get_name(self):\n",
    "        return self.__name\n",
    "    def set_name(self,name):\n",
    "        self.__name= name\n",
    "    def get_age(self):\n",
    "        return self.__age\n",
    "    def set_name(self,age):\n",
    "        self.__age= age\n",
    "\n",
    "class Student(Person):\n",
    "    def __init__(self,name,age,student_id):\n",
    "        Person.__init__(self,name,age)\n",
    "        self.student_id= student_id\n",
    "\n",
    "student= Student(\"Krish\",21,8)\n",
    "student.get_name()"
   ]
  },
  {
   "cell_type": "code",
   "execution_count": 28,
   "id": "1044ec9c",
   "metadata": {},
   "outputs": [
    {
     "name": "stdout",
     "output_type": "stream",
     "text": [
      "Woof Woff!!\n",
      "None\n",
      "Meow Meow!!\n",
      "None\n"
     ]
    }
   ],
   "source": [
    "class Animal:\n",
    "    def speak(self):\n",
    "        pass\n",
    "class Dog(Animal):\n",
    "    def speak(self):\n",
    "        print(\"Woof Woff!!\")\n",
    "class Cat(Animal):\n",
    "    def speak(self):\n",
    "        print(\"Meow Meow!!\")\n",
    "\n",
    "def speak_now(animal):\n",
    "    return animal.speak()\n",
    "\n",
    "animals= [Dog(),Cat()]\n",
    "for animal in animals:\n",
    "    print(speak_now(animal))"
   ]
  },
  {
   "cell_type": "code",
   "execution_count": 1,
   "id": "a9672450",
   "metadata": {},
   "outputs": [
    {
     "name": "stdout",
     "output_type": "stream",
     "text": [
      "Salary less than full timer\n",
      "Salary more than part timer\n"
     ]
    }
   ],
   "source": [
    "from abc import ABC,abstractmethod\n",
    "class Employee(ABC):\n",
    "    @abstractmethod\n",
    "    def calculate_Salary(self):\n",
    "        pass\n",
    "class FulltimeEmployee(Employee):\n",
    "    def calculate_Salary(self):\n",
    "        print(\"Salary more than part timer\")\n",
    "class ParttimeEmployee(Employee):\n",
    "    def calculate_Salary(self):\n",
    "        print(\"Salary less than full timer\")\n",
    "\n",
    "employee1= FulltimeEmployee()\n",
    "fresher= ParttimeEmployee()\n",
    "fresher.calculate_Salary()\n",
    "employee1.calculate_Salary()"
   ]
  },
  {
   "cell_type": "code",
   "execution_count": 10,
   "id": "f8412aac",
   "metadata": {},
   "outputs": [
    {
     "name": "stdout",
     "output_type": "stream",
     "text": [
      "P001 Laptop 1000\n",
      "Negative\n",
      "P001 Laptop 1500\n"
     ]
    }
   ],
   "source": [
    "class Product:\n",
    "    def __init__(self,product_id,name,price):\n",
    "        self.__product_id= product_id\n",
    "        self.__name= name\n",
    "        self.__price= price\n",
    "    \n",
    "    def get_product_id(self):\n",
    "        return self.__product_id\n",
    "    def set_product_id(self,id):\n",
    "        self.__product_id= id\n",
    "    def get_name(self):\n",
    "        return self.__name\n",
    "    def set_name(self,name):\n",
    "        self.__name= name\n",
    "    def get_price(self):\n",
    "        return self.__price\n",
    "    def set_price(self,price):\n",
    "        if price>0:\n",
    "            self.__price= price\n",
    "        else:\n",
    "            print(\"Negative\")\n",
    "\n",
    "product = Product('P001', 'Laptop', 1000)  \n",
    "print(product.get_product_id(), product.get_name(), product.get_price())\n",
    "product.set_price(-500)\n",
    "product.set_price(1500)\n",
    "print(product.get_product_id(), product.get_name(), product.get_price())\n"
   ]
  },
  {
   "cell_type": "code",
   "execution_count": 14,
   "id": "b2db887a",
   "metadata": {},
   "outputs": [
    {
     "name": "stdout",
     "output_type": "stream",
     "text": [
      "Vector(6, 8)\n"
     ]
    }
   ],
   "source": [
    "class Vector:\n",
    "    def __init__(self,x,y):\n",
    "        self.x=x\n",
    "        self.y=y\n",
    "    \n",
    "    def __add__(self,other):\n",
    "        return Vector(self.x+other.x, self.y+other.y)\n",
    "    def __str__(self):\n",
    "        return f\"Vector({self.x}, {self.y})\"\n",
    "\n",
    "v1 = Vector(2, 3)\n",
    "v2 = Vector(4, 5)\n",
    "v3 = v1 + v2\n",
    "print(v3)"
   ]
  },
  {
   "cell_type": "code",
   "execution_count": 3,
   "id": "897cd359",
   "metadata": {},
   "outputs": [
    {
     "name": "stdout",
     "output_type": "stream",
     "text": [
      "Woosh Woosh\n"
     ]
    }
   ],
   "source": [
    "from abc import ABC,abstractmethod\n",
    "class Appliance(ABC):\n",
    "    @abstractmethod\n",
    "    def power(self):\n",
    "        pass\n",
    "\n",
    "class Washingmachine(Appliance):\n",
    "    def power(self):\n",
    "        print(\"Woosh Woosh\")\n",
    "class Refrigerator(Appliance):\n",
    "    def power(self):\n",
    "        print(\"Freeze\")\n",
    "\n",
    "def get_power(appliance):\n",
    "    return appliance.power()\n",
    "\n",
    "pool= Washingmachine()\n",
    "lg= Refrigerator()\n",
    "#pool.power()\n",
    "#lg.power()\n",
    "get_power(pool)"
   ]
  },
  {
   "cell_type": "code",
   "execution_count": 13,
   "id": "d464eca6",
   "metadata": {},
   "outputs": [
    {
     "name": "stdout",
     "output_type": "stream",
     "text": [
      "100\n",
      "1000\n",
      "8%\n",
      "101 1001 8%\n"
     ]
    }
   ],
   "source": [
    "class Account:\n",
    "    def __init__(self,account_number,balance):\n",
    "        self.__account_number= account_number\n",
    "        self.__balance= balance\n",
    "    \n",
    "    def get_account_number(self):\n",
    "        return self.__account_number\n",
    "    def set_account_number(self,account_number):\n",
    "        self.__account_number= account_number\n",
    "    \n",
    "    def get_balance(self):\n",
    "        return self.__balance\n",
    "    def set_balance(self,balance):\n",
    "        self.__balance= balance\n",
    "\n",
    "class SavingsAccount(Account):\n",
    "    def __init__(self,account_number,balance,interest):\n",
    "        super().__init__(account_number,balance)\n",
    "        self.interest= interest\n",
    "\n",
    "user= SavingsAccount(100,1000,\"8%\")\n",
    "print(user.get_account_number())\n",
    "print(user.get_balance())\n",
    "print(user.interest)\n",
    "user.set_account_number(101)\n",
    "user.set_balance(1001)\n",
    "print(user.get_account_number(),user.get_balance(),user.interest)"
   ]
  },
  {
   "cell_type": "code",
   "execution_count": 15,
   "id": "893ce4ab",
   "metadata": {},
   "outputs": [
    {
     "name": "stdout",
     "output_type": "stream",
     "text": [
      "Superman is flying\n",
      "Superman is Superhero swimming\n"
     ]
    },
    {
     "data": {
      "text/plain": [
       "(None, None)"
      ]
     },
     "execution_count": 15,
     "metadata": {},
     "output_type": "execute_result"
    }
   ],
   "source": [
    "class Flyer:\n",
    "    def fly(self):\n",
    "        print(\"Flying\")\n",
    "\n",
    "class Swimmer:\n",
    "    def swim(self):\n",
    "        print(\"Swimming\")\n",
    "\n",
    "class Superhero(Flyer,Swimmer):\n",
    "    def __init__(self,name):\n",
    "        self.name=name\n",
    "    def fly(self):\n",
    "        print(f\"{self.name} is flying\")\n",
    "    def swim(self):\n",
    "        print(f\"{self.name} is Superhero swimming\")\n",
    "\n",
    "superman= Superhero(\"Superman\")\n",
    "superman.fly(),superman.swim()"
   ]
  },
  {
   "cell_type": "code",
   "execution_count": 25,
   "id": "28b568fb",
   "metadata": {},
   "outputs": [
    {
     "name": "stdout",
     "output_type": "stream",
     "text": [
      "Engineer is working\n",
      "Doctor is working\n"
     ]
    }
   ],
   "source": [
    "from abc import ABC, abstractmethod\n",
    "\n",
    "class Worker(ABC):\n",
    "    @abstractmethod\n",
    "    def work(self):\n",
    "        pass\n",
    "class Engineer(Worker):\n",
    "    def work(self):\n",
    "        print(\"Engineer is working\")\n",
    "        \n",
    "class Doctor(Worker):\n",
    "    def work(self):\n",
    "        print(\"Doctor is working\")\n",
    "class Scientist(Engineer,Doctor):\n",
    "    def work(self):\n",
    "        Engineer.work(self)\n",
    "        Doctor.work(self)\n",
    "person= Scientist()\n",
    "person.work()"
   ]
  }
 ],
 "metadata": {
  "kernelspec": {
   "display_name": "Python 3",
   "language": "python",
   "name": "python3"
  },
  "language_info": {
   "codemirror_mode": {
    "name": "ipython",
    "version": 3
   },
   "file_extension": ".py",
   "mimetype": "text/x-python",
   "name": "python",
   "nbconvert_exporter": "python",
   "pygments_lexer": "ipython3",
   "version": "3.12.0"
  }
 },
 "nbformat": 4,
 "nbformat_minor": 5
}
