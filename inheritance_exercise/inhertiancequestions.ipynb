{
 "cells": [
  {
   "cell_type": "markdown",
   "metadata": {},
   "source": [
    "# Module: Inheritance Assignments\n",
    "## Lesson: Single and Multiple Inheritance\n",
    "### Assignment 1: Single Inheritance Basic\n",
    "\n",
    "Create a base class named `Animal` with attributes `name` and `species`. Create a derived class named `Dog` that inherits from `Animal` and adds an attribute `breed`. Create an object of the `Dog` class and print its attributes.\n",
    "\n",
    "### Assignment 2: Method Overriding in Single Inheritance\n",
    "\n",
    "In the `Dog` class, override the `__str__` method to return a string representation of the object. Create an object of the class and print it.\n",
    "\n",
    "### Assignment 3: Single Inheritance with Additional Methods\n",
    "\n",
    "In the `Dog` class, add a method named `bark` that prints a barking sound. Create an object of the class and call the method.\n",
    "\n",
    "### Assignment 4: Multiple Inheritance Basic\n",
    "\n",
    "Create a base class named `Walker` with a method `walk` that prints a walking message. Create another base class named `Runner` with a method `run` that prints a running message. Create a derived class named `Athlete` that inherits from both `Walker` and `Runner`. Create an object of the `Athlete` class and call both methods.\n",
    "\n",
    "### Assignment 5: Method Resolution Order (MRO) in Multiple Inheritance\n",
    "\n",
    "In the `Athlete` class, override the `walk` method to print a different message. Create an object of the class and call the `walk` method. Use the `super()` function to call the `walk` method of the `Walker` class.\n",
    "\n",
    "### Assignment 6: Multiple Inheritance with Additional Attributes\n",
    "\n",
    "In the `Athlete` class, add an attribute `training_hours` and a method `train` that prints the training hours. Create an object of the class and call the method.\n",
    "\n",
    "### Assignment 7: Diamond Problem in Multiple Inheritance\n",
    "\n",
    "Create a class named `A` with a method `show` that prints a message. Create two derived classes `B` and `C` that inherit from `A` and override the `show` method. Create a class `D` that inherits from both `B` and `C`. Create an object of the `D` class and call the `show` method. Observe the method resolution order.\n",
    "\n",
    "### Assignment 8: Using `super()` in Single Inheritance\n",
    "\n",
    "Create a base class named `Shape` with an attribute `color`. Create a derived class named `Circle` that inherits from `Shape` and adds an attribute `radius`. Use the `super()` function to initialize the attributes. Create an object of the `Circle` class and print its attributes.\n",
    "\n",
    "### Assignment 9: Using `super()` in Multiple Inheritance\n",
    "\n",
    "Create a class named `Person` with an attribute `name`. Create a class named `Employee` with an attribute `employee_id`. Create a derived class `Manager` that inherits from both `Person` and `Employee`. Use the `super()` function to initialize the attributes. Create an object of the `Manager` class and print its attributes.\n",
    "\n",
    "### Assignment 10: Method Overriding and `super()`\n",
    "\n",
    "Create a class named `Vehicle` with a method `start` that prints a starting message. Create a derived class `Car` that overrides the `start` method to print a different message. Use the `super()` function to call the `start` method of the `Vehicle` class. Create an object of the `Car` class and call the `start` method.\n",
    "\n",
    "### Assignment 11: Multiple Inheritance with Different Methods\n",
    "\n",
    "Create a class named `Flyer` with a method `fly` that prints a flying message. Create a class named `Swimmer` with a method `swim` that prints a swimming message. Create a derived class `Superhero` that inherits from both `Flyer` and `Swimmer`. Create an object of the `Superhero` class and call both methods.\n",
    "\n",
    "### Assignment 12: Complex Multiple Inheritance\n",
    "\n",
    "Create a class named `Base1` with an attribute `a`. Create a class named `Base2` with an attribute `b`. Create a class named `Derived` that inherits from both `Base1` and `Base2` and adds an attribute `c`. Initialize all attributes using the `super()` function. Create an object of the `Derived` class and print its attributes.\n",
    "\n",
    "### Assignment 13: Checking Instance Types with Inheritance\n",
    "\n",
    "Create a base class named `Animal` and a derived class named `Cat`. Create objects of both classes and use the `isinstance` function to check the instance types.\n",
    "\n",
    "### Assignment 14: Polymorphism with Inheritance\n",
    "\n",
    "Create a base class named `Bird` with a method `speak`. Create two derived classes `Parrot` and `Penguin` that override the `speak` method. Create a list of `Bird` objects and call the `speak` method on each object to demonstrate polymorphism.\n",
    "\n",
    "### Assignment 15: Combining Single and Multiple Inheritance\n",
    "\n",
    "Create a base class named `Device` with an attribute `brand`. Create a derived class `Phone` that inherits from `Device` and adds an attribute `model`. Create another base class `Camera` with an attribute `resolution`. Create a derived class `Smartphone` that inherits from both `Phone` and `Camera`. Create an object of the `Smartphone` class and print its attributes."
   ]
  },
  {
   "cell_type": "code",
   "execution_count": 1,
   "metadata": {},
   "outputs": [],
   "source": [
    "class Animal:\n",
    "    def __init__(self,name,species):\n",
    "        self.name= name\n",
    "        self.species= species\n",
    "class Dog(Animal):\n",
    "    def __init__(self,name,species,breed):\n",
    "        Animal.__init__(self,name,species)\n",
    "        self.breed= breed "
   ]
  },
  {
   "cell_type": "code",
   "execution_count": 3,
   "id": "09f65111",
   "metadata": {},
   "outputs": [
    {
     "name": "stdout",
     "output_type": "stream",
     "text": [
      "Jojo Canine Husky\n"
     ]
    }
   ],
   "source": [
    "dog1= Dog(\"Jojo\",\"Canine\",\"Husky\")\n",
    "print(dog1.name,dog1.species,dog1.breed)"
   ]
  },
  {
   "cell_type": "code",
   "execution_count": 20,
   "id": "94a00511",
   "metadata": {},
   "outputs": [],
   "source": [
    "class Animal:\n",
    "    def __init__(self,name,species):\n",
    "        self.name= name\n",
    "        self.species= species\n",
    "class Dog(Animal):\n",
    "    def __init__(self,name,species,breed):\n",
    "        Animal.__init__(self,name,species)\n",
    "        self.breed= breed \n",
    "    def __str__(self):\n",
    "        return f\"Name of dog is {self.name},Species is {self.species} and breed is {self.breed}\""
   ]
  },
  {
   "cell_type": "code",
   "execution_count": 21,
   "id": "f75dfe22",
   "metadata": {},
   "outputs": [
    {
     "name": "stdout",
     "output_type": "stream",
     "text": [
      "Name of dog is Jojo,Species is Canine and breed is Husky\n"
     ]
    }
   ],
   "source": [
    "dog1= Dog(\"Jojo\",\"Canine\",\"Husky\")\n",
    "print(dog1)"
   ]
  },
  {
   "cell_type": "code",
   "execution_count": 22,
   "id": "a7b62249",
   "metadata": {},
   "outputs": [
    {
     "data": {
      "text/plain": [
       "'woof woof!!'"
      ]
     },
     "execution_count": 22,
     "metadata": {},
     "output_type": "execute_result"
    }
   ],
   "source": [
    "class Dog(Animal):\n",
    "    def __init__(self,name,species,breed):\n",
    "        Animal.__init__(self,name,species)\n",
    "        self.breed= breed\n",
    "    def bark(self):\n",
    "        return \"woof woof!!\"\n",
    "\n",
    "dog= Dog('Buddy', 'Canine', 'Golden Retriever')\n",
    "dog.bark()"
   ]
  },
  {
   "cell_type": "code",
   "execution_count": 42,
   "id": "a80d48a1",
   "metadata": {},
   "outputs": [
    {
     "name": "stdout",
     "output_type": "stream",
     "text": [
      "I am walking\n",
      "I am running\n"
     ]
    }
   ],
   "source": [
    "class Walker:\n",
    "    def walk(self):\n",
    "        print(\"I am walking\")\n",
    "class Runner:\n",
    "    def run(self):\n",
    "        print(\"I am running\")\n",
    "class Athlete(Walker,Runner):\n",
    "    pass\n",
    "\n",
    "man= Athlete()     \n",
    "man.walk()\n",
    "man.run()"
   ]
  },
  {
   "cell_type": "code",
   "execution_count": 44,
   "id": "724eea78",
   "metadata": {},
   "outputs": [
    {
     "name": "stdout",
     "output_type": "stream",
     "text": [
      "I am walking now.\n",
      "I am walking\n"
     ]
    }
   ],
   "source": [
    "class Walker:\n",
    "    def walk(self):\n",
    "        print(\"I am walking\")\n",
    "class Runner:\n",
    "    def run(self):\n",
    "        print(\"I am running\")\n",
    "class Athlete(Walker,Runner):\n",
    "    def walk(self):\n",
    "        print(\"I am walking now.\")\n",
    "        super().walk()\n",
    "\n",
    "man= Athlete() \n",
    "man.walk()\n"
   ]
  },
  {
   "cell_type": "code",
   "execution_count": 46,
   "id": "6cb247c6",
   "metadata": {},
   "outputs": [
    {
     "name": "stdout",
     "output_type": "stream",
     "text": [
      "I have been training for 10 hours\n"
     ]
    }
   ],
   "source": [
    "class Athlete(Walker,Runner):\n",
    "    def __init__(self,training_hours):\n",
    "        self.training_hours= training_hours\n",
    "    def train(self):\n",
    "        return print(f\"I have been training for {self.training_hours} hours\")\n",
    "\n",
    "man1= Athlete(10)\n",
    "man1.train()"
   ]
  },
  {
   "cell_type": "code",
   "execution_count": 48,
   "id": "1f053e02",
   "metadata": {},
   "outputs": [
    {
     "name": "stdout",
     "output_type": "stream",
     "text": [
      "Showing on B\n"
     ]
    }
   ],
   "source": [
    "class A:\n",
    "    def show(self):\n",
    "        print(\"Showing.....\")\n",
    "class B(A):\n",
    "    def show(self):\n",
    "        print(\"Showing on B\")\n",
    "class C(A):\n",
    "    def how(self):\n",
    "        print(\"Showing on C\")\n",
    "class D(B,C):\n",
    "    pass\n",
    "a_man= D()\n",
    "a_man.show()"
   ]
  },
  {
   "cell_type": "code",
   "execution_count": 50,
   "id": "5d6710b6",
   "metadata": {},
   "outputs": [
    {
     "name": "stdout",
     "output_type": "stream",
     "text": [
      "Red 5 cm\n"
     ]
    }
   ],
   "source": [
    "class Shape:\n",
    "    def __init__(self,color):\n",
    "        self.color= color\n",
    "class Circle(Shape):\n",
    "    def __init__(self,color,radius):\n",
    "        super().__init__(color)\n",
    "        self.radius= radius\n",
    "\n",
    "shape= Circle(\"Red\",\"5 cm\")\n",
    "print(shape.color,shape.radius)"
   ]
  },
  {
   "cell_type": "code",
   "execution_count": 6,
   "id": "dbda684f",
   "metadata": {},
   "outputs": [
    {
     "name": "stdout",
     "output_type": "stream",
     "text": [
      "Krish 101\n"
     ]
    }
   ],
   "source": [
    "class Person:\n",
    "    def __init__(self,name):\n",
    "        self.name=name\n",
    "class Employee:\n",
    "    def __init__(self,employee_id):\n",
    "        self.employee_id= employee_id\n",
    "class Manager(Person,Employee):\n",
    "    def __init__(self,name,employee_id):\n",
    "        Person.__init__(self,name)\n",
    "        Employee.__init__(self,employee_id)\n",
    "\n",
    "manager= Manager(\"Krish\",101)\n",
    "print(manager.name,manager.employee_id)\n"
   ]
  },
  {
   "cell_type": "code",
   "execution_count": 9,
   "id": "4d2b9df6",
   "metadata": {},
   "outputs": [
    {
     "name": "stdout",
     "output_type": "stream",
     "text": [
      "Car starts...\n",
      "Vehicle starts...\n"
     ]
    }
   ],
   "source": [
    "class Vehicle:\n",
    "    def start(self):\n",
    "        print(\"Vehicle starts...\")\n",
    "class Car(Vehicle):\n",
    "    def start(self):\n",
    "        print(\"Car starts...\")\n",
    "        super().start()\n",
    "\n",
    "car= Car()\n",
    "car.start()"
   ]
  },
  {
   "cell_type": "code",
   "execution_count": 12,
   "id": "27c3932c",
   "metadata": {},
   "outputs": [
    {
     "name": "stdout",
     "output_type": "stream",
     "text": [
      "Flying now\n",
      "Swimming now\n"
     ]
    }
   ],
   "source": [
    "class Flyer:\n",
    "    def fly(self):\n",
    "        print(\"Flying now\")\n",
    "class Swimmer:\n",
    "    def swim(self):\n",
    "        print(\"Swimming now\")\n",
    "class Superhero(Flyer,Swimmer):\n",
    "    pass\n",
    "\n",
    "superman= Superhero()\n",
    "superman.fly()\n",
    "superman.swim()"
   ]
  },
  {
   "cell_type": "code",
   "execution_count": 14,
   "id": "a728ecbd",
   "metadata": {},
   "outputs": [],
   "source": [
    "class Base1:\n",
    "    def __init__(self,a):\n",
    "        self.a=a\n",
    "class Base2:\n",
    "    def __init__(self,b):\n",
    "        self.b=b\n",
    "class Derived(Base1,Base2):\n",
    "    def __init__(self, a,b,c):\n",
    "        super().__init__(a)\n",
    "        Base2.__init__(self,b)\n",
    "        self.c=c \n",
    "der= Derived(1,2,3)\n"
   ]
  },
  {
   "cell_type": "code",
   "execution_count": 16,
   "id": "5f62e9fc",
   "metadata": {},
   "outputs": [
    {
     "name": "stdout",
     "output_type": "stream",
     "text": [
      "1\n",
      "2\n",
      "3\n"
     ]
    }
   ],
   "source": [
    "print(der.a)\n",
    "print(der.b)\n",
    "print(der.c)"
   ]
  },
  {
   "cell_type": "code",
   "execution_count": 25,
   "id": "3428d040",
   "metadata": {},
   "outputs": [
    {
     "name": "stdout",
     "output_type": "stream",
     "text": [
      "True\n",
      "True\n",
      "False\n",
      "True\n"
     ]
    }
   ],
   "source": [
    "class Animal:\n",
    "    pass\n",
    "class Cat(Animal):\n",
    "    pass\n",
    "animal=Animal()\n",
    "cat= Cat()\n",
    "print(isinstance(animal,Animal))\n",
    "print(isinstance(cat,Cat))\n",
    "print(isinstance(animal,Cat))\n",
    "print(isinstance(cat,Animal))"
   ]
  },
  {
   "cell_type": "code",
   "execution_count": 26,
   "id": "61a9e2f2",
   "metadata": {},
   "outputs": [
    {
     "name": "stdout",
     "output_type": "stream",
     "text": [
      "Chirp chirp...\n",
      "Quack Quack...\n"
     ]
    }
   ],
   "source": [
    "class Bird:\n",
    "    def speak(self):\n",
    "        pass\n",
    "class Parrot(Bird):\n",
    "    def speak(self):\n",
    "        print(\"Chirp chirp...\")\n",
    "class Penguin(Bird):\n",
    "    def speak(self):\n",
    "        print(\"Quack Quack...\")\n",
    "\n",
    "birds = [Parrot(), Penguin()]\n",
    "for bird in birds:\n",
    "    bird.speak()"
   ]
  },
  {
   "cell_type": "code",
   "execution_count": 30,
   "id": "5acc2268",
   "metadata": {},
   "outputs": [
    {
     "name": "stdout",
     "output_type": "stream",
     "text": [
      "Samsung S24 128MP\n"
     ]
    }
   ],
   "source": [
    "class Device:\n",
    "    def __init__(self,brand):\n",
    "        self.brand= brand\n",
    "class Phone(Device):\n",
    "    def __init__(self,brand,model):\n",
    "        super().__init__(brand)\n",
    "        self.model=model \n",
    "class Camera:\n",
    "    def __init__(self,resolution):\n",
    "        self.resolution=resolution\n",
    "class Smartphone(Phone,Camera):\n",
    "    def __init__(self, brand, model,resolution):\n",
    "        Phone.__init__(self,brand, model)\n",
    "        Camera.__init__(self,resolution)\n",
    "s24= Smartphone(\"Samsung\",\"S24\",\"128MP\")\n",
    "print(s24.brand,s24.model,s24.resolution)\n",
    "\n"
   ]
  }
 ],
 "metadata": {
  "kernelspec": {
   "display_name": "Python 3",
   "language": "python",
   "name": "python3"
  },
  "language_info": {
   "codemirror_mode": {
    "name": "ipython",
    "version": 3
   },
   "file_extension": ".py",
   "mimetype": "text/x-python",
   "name": "python",
   "nbconvert_exporter": "python",
   "pygments_lexer": "ipython3",
   "version": "3.12.0"
  }
 },
 "nbformat": 4,
 "nbformat_minor": 5
}
