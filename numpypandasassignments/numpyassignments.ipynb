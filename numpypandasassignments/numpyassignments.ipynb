{
 "cells": [
  {
   "cell_type": "markdown",
   "metadata": {},
   "source": [
    "# Module: NumPy Assignments\n",
    "## Lesson: NumPy\n",
    "### Assignment 1: Array Creation and Manipulation\n",
    "\n",
    "1. Create a NumPy array of shape (5, 5) filled with random integers between 1 and 20. Replace all the elements in the third column with 1.\n",
    "2. Create a NumPy array of shape (4, 4) with values from 1 to 16. Replace the diagonal elements with 0.\n",
    "\n",
    "### Assignment 2: Array Indexing and Slicing\n",
    "\n",
    "1. Create a NumPy array of shape (6, 6) with values from 1 to 36. Extract the sub-array consisting of the 3rd to 5th rows and 2nd to 4th columns.\n",
    "2. Create a NumPy array of shape (5, 5) with random integers. Extract the elements on the border.\n",
    "\n",
    "### Assignment 3: Array Operations\n",
    "\n",
    "1. Create two NumPy arrays of shape (3, 4) filled with random integers. Perform element-wise addition, subtraction, multiplication, and division.\n",
    "2. Create a NumPy array of shape (4, 4) with values from 1 to 16. Compute the row-wise and column-wise sum.\n",
    "\n",
    "### Assignment 4: Statistical Operations\n",
    "\n",
    "1. Create a NumPy array of shape (5, 5) filled with random integers. Compute the mean, median, standard deviation, and variance of the array.\n",
    "2. Create a NumPy array of shape (3, 3) with values from 1 to 9. Normalize the array (i.e., scale the values to have a mean of 0 and a standard deviation of 1).\n",
    "\n",
    "### Assignment 5: Broadcasting\n",
    "\n",
    "1. Create a NumPy array of shape (3, 3) filled with random integers. Add a 1D array of shape (3,) to each row of the 2D array using broadcasting.\n",
    "2. Create a NumPy array of shape (4, 4) filled with random integers. Subtract a 1D array of shape (4,) from each column of the 2D array using broadcasting.\n",
    "\n",
    "### Assignment 6: Linear Algebra\n",
    "\n",
    "1. Create a NumPy array of shape (3, 3) representing a matrix. Compute its determinant, inverse, and eigenvalues.\n",
    "2. Create two NumPy arrays of shape (2, 3) and (3, 2). Perform matrix multiplication on these arrays.\n",
    "\n",
    "### Assignment 7: Advanced Array Manipulation\n",
    "\n",
    "1. Create a NumPy array of shape (3, 3) with values from 1 to 9. Reshape the array to shape (1, 9) and then to shape (9, 1).\n",
    "2. Create a NumPy array of shape (5, 5) filled with random integers. Flatten the array and then reshape it back to (5, 5).\n",
    "\n",
    "### Assignment 8: Fancy Indexing and Boolean Indexing\n",
    "\n",
    "1. Create a NumPy array of shape (5, 5) filled with random integers. Use fancy indexing to extract the elements at the corners of the array.\n",
    "2. Create a NumPy array of shape (4, 4) filled with random integers. Use boolean indexing to set all elements greater than 10 to 10.\n",
    "\n",
    "### Assignment 9: Structured Arrays\n",
    "\n",
    "1. Create a structured array with fields 'name' (string), 'age' (integer), and 'weight' (float). Add some data and sort the array by age.\n",
    "2. Create a structured array with fields 'x' and 'y' (both integers). Add some data and compute the Euclidean distance between each pair of points.\n",
    "\n",
    "### Assignment 10: Masked Arrays\n",
    "\n",
    "1. Create a masked array of shape (4, 4) with random integers and mask the elements greater than 10. Compute the sum of the unmasked elements.\n",
    "2. Create a masked array of shape (3, 3) with random integers and mask the diagonal elements. Replace the masked elements with the mean of the unmasked elements."
   ]
  },
  {
   "cell_type": "code",
   "execution_count": 1,
   "metadata": {},
   "outputs": [],
   "source": [
    "import numpy as np"
   ]
  },
  {
   "cell_type": "code",
   "execution_count": 5,
   "id": "8a437619",
   "metadata": {},
   "outputs": [
    {
     "name": "stdout",
     "output_type": "stream",
     "text": [
      "[[ 8 17  3  8  2]\n",
      " [16  7  4 10 10]\n",
      " [12  9 15  5  6]\n",
      " [20  6 12 11  4]\n",
      " [ 5 10 15 13 12]]\n"
     ]
    }
   ],
   "source": [
    "arr= np.random.randint(1,21 ,size=(5,5))\n",
    "print(arr)"
   ]
  },
  {
   "cell_type": "code",
   "execution_count": 6,
   "id": "7ce5490c",
   "metadata": {},
   "outputs": [
    {
     "name": "stdout",
     "output_type": "stream",
     "text": [
      "[[ 8 17  1  8  2]\n",
      " [16  7  1 10 10]\n",
      " [12  9  1  5  6]\n",
      " [20  6  1 11  4]\n",
      " [ 5 10  1 13 12]]\n"
     ]
    }
   ],
   "source": [
    "arr[:,2]= 1\n",
    "print(arr)"
   ]
  },
  {
   "cell_type": "code",
   "execution_count": 8,
   "id": "3c8f4787",
   "metadata": {},
   "outputs": [
    {
     "name": "stdout",
     "output_type": "stream",
     "text": [
      "[[ 1  2  3  4]\n",
      " [ 5  6  7  8]\n",
      " [ 9 10 11 12]\n",
      " [13 14 15 16]]\n",
      "[[ 0  2  3  4]\n",
      " [ 5  0  7  8]\n",
      " [ 9 10  0 12]\n",
      " [13 14 15  0]]\n"
     ]
    }
   ],
   "source": [
    "arr1= np.arange(1,17).reshape(4,4)\n",
    "print(arr1)\n",
    "np.fill_diagonal(arr1,0)\n",
    "print(arr1)"
   ]
  },
  {
   "cell_type": "code",
   "execution_count": 10,
   "id": "ea997f2f",
   "metadata": {},
   "outputs": [
    {
     "name": "stdout",
     "output_type": "stream",
     "text": [
      "[[ 1  2  3  4  5  6]\n",
      " [ 7  8  9 10 11 12]\n",
      " [13 14 15 16 17 18]\n",
      " [19 20 21 22 23 24]\n",
      " [25 26 27 28 29 30]\n",
      " [31 32 33 34 35 36]]\n",
      "[[14 15 16]\n",
      " [20 21 22]\n",
      " [26 27 28]]\n"
     ]
    }
   ],
   "source": [
    "arr2= np.arange(1,37).reshape(6,6)\n",
    "subarr= arr2[2:5,1:4]\n",
    "print(arr2)\n",
    "print(subarr)"
   ]
  },
  {
   "cell_type": "code",
   "execution_count": 11,
   "id": "6b13392f",
   "metadata": {},
   "outputs": [
    {
     "name": "stdout",
     "output_type": "stream",
     "text": [
      "[[ 3  7  4 12 14]\n",
      " [ 8 20 17 13  8]\n",
      " [ 5  1  7  1 19]\n",
      " [ 9 13  2 19 19]\n",
      " [ 7 19  9 19  7]]\n",
      "Border elements\n",
      "[ 3  7  4 12 14  7 19  9 19  7  8  5  9  8 19 19]\n"
     ]
    }
   ],
   "source": [
    "a= np.random.randint(1,21, size =(5,5))\n",
    "print(a)\n",
    "print(\"Border elements\")\n",
    "border_elements= np.concatenate((a[0,:],a[-1,:], a[1:-1,0], a[1:-1,4]))\n",
    "print(border_elements)"
   ]
  },
  {
   "cell_type": "code",
   "execution_count": 14,
   "id": "c11add43",
   "metadata": {},
   "outputs": [
    {
     "name": "stdout",
     "output_type": "stream",
     "text": [
      "[[ 3 12  6  9]\n",
      " [11 11  5 11]\n",
      " [ 6  7  4  1]]\n",
      "[[ 1  7 11  4]\n",
      " [10 10  3  9]\n",
      " [10 11  7  9]]\n",
      "[[ 4 19 17 13]\n",
      " [21 21  8 20]\n",
      " [16 18 11 10]]\n",
      "[[ 2  5 -5  5]\n",
      " [ 1  1  2  2]\n",
      " [-4 -4 -3 -8]]\n",
      "[[  3  84  66  36]\n",
      " [110 110  15  99]\n",
      " [ 60  77  28   9]]\n",
      "[[3.         1.71428571 0.54545455 2.25      ]\n",
      " [1.1        1.1        1.66666667 1.22222222]\n",
      " [0.6        0.63636364 0.57142857 0.11111111]]\n"
     ]
    }
   ],
   "source": [
    "a1= np.random.randint(1,13,  size= (3,4))\n",
    "print(a1)\n",
    "a2= np.random.randint(1,13,  size= (3,4))\n",
    "print(a2)\n",
    "\n",
    "print(a1+a2)\n",
    "print(a1-a2)\n",
    "print(a1*a2)\n",
    "print(a1/a2)"
   ]
  },
  {
   "cell_type": "code",
   "execution_count": 16,
   "id": "a5f03ac8",
   "metadata": {},
   "outputs": [
    {
     "name": "stdout",
     "output_type": "stream",
     "text": [
      "[[ 1  2  3  4]\n",
      " [ 5  6  7  8]\n",
      " [ 9 10 11 12]\n",
      " [13 14 15 16]]\n",
      "[28 32 36 40]\n",
      "[10 26 42 58]\n"
     ]
    }
   ],
   "source": [
    "a= np.arange(1,17).reshape(4,4)\n",
    "row_sum= np.sum(a,axis=0)\n",
    "column_sum= np.sum(a,axis=1)\n",
    "print(a)\n",
    "print(row_sum)\n",
    "print(column_sum)"
   ]
  },
  {
   "cell_type": "code",
   "execution_count": 17,
   "id": "8bb2291b",
   "metadata": {},
   "outputs": [
    {
     "name": "stdout",
     "output_type": "stream",
     "text": [
      "[[11 16  8  5 12]\n",
      " [ 3  2  1 18 10]\n",
      " [ 2 11  8  8  6]\n",
      " [ 8 14  8  6 15]\n",
      " [13  9  6 11 13]]\n",
      "8.96 8.0 4.431523440082429 19.6384\n"
     ]
    }
   ],
   "source": [
    "a= np.random.randint(1,21, size=(5,5))\n",
    "print(a)\n",
    "mean= np.mean(a)\n",
    "median= np.median(a)\n",
    "std_dev= np.std(a)\n",
    "variance= np.var(a)\n",
    "print(mean,median,std_dev,variance)"
   ]
  },
  {
   "cell_type": "code",
   "execution_count": 18,
   "id": "2082c907",
   "metadata": {},
   "outputs": [
    {
     "name": "stdout",
     "output_type": "stream",
     "text": [
      "[[1 2 3]\n",
      " [4 5 6]\n",
      " [7 8 9]]\n",
      "[[-1.54919334 -1.161895   -0.77459667]\n",
      " [-0.38729833  0.          0.38729833]\n",
      " [ 0.77459667  1.161895    1.54919334]]\n"
     ]
    }
   ],
   "source": [
    "a1= np.arange(1,10).reshape(3,3)\n",
    "print(a1)\n",
    "mean= np.mean(a1)\n",
    "std_dev=np.std(a1)\n",
    "normalization= (a1-mean)/std_dev\n",
    "print(normalization)"
   ]
  },
  {
   "cell_type": "code",
   "execution_count": 19,
   "id": "f86646d2",
   "metadata": {},
   "outputs": [
    {
     "name": "stdout",
     "output_type": "stream",
     "text": [
      "[[ 5  5  1]\n",
      " [10 10  2]\n",
      " [ 4  9  2]]\n",
      "[4 7 8]\n",
      "[[ 9 12  9]\n",
      " [14 17 10]\n",
      " [ 8 16 10]]\n"
     ]
    }
   ],
   "source": [
    "a= np.random.randint(1,11 , size= (3,3))\n",
    "b= np.random.randint(1,11 , size= (3,))\n",
    "\n",
    "print(a)\n",
    "print(b)\n",
    "new= a+b\n",
    "print(new)"
   ]
  },
  {
   "cell_type": "code",
   "execution_count": 20,
   "id": "7d84ab40",
   "metadata": {},
   "outputs": [
    {
     "name": "stdout",
     "output_type": "stream",
     "text": [
      "[[ 3  6  9  3]\n",
      " [ 1  7  9 10]\n",
      " [ 2  6  6  8]\n",
      " [ 5  7  4  4]]\n",
      "[ 1 10 10 10]\n",
      "[[ 2 -4 -1 -7]\n",
      " [ 0 -3 -1  0]\n",
      " [ 1 -4 -4 -2]\n",
      " [ 4 -3 -6 -6]]\n"
     ]
    }
   ],
   "source": [
    "a= np.random.randint(1,11 , size= (4,4))\n",
    "b= np.random.randint(1,11 , size= (4,))\n",
    "print(a)\n",
    "print(b)\n",
    "new= a-b\n",
    "print(new)"
   ]
  },
  {
   "cell_type": "code",
   "execution_count": 21,
   "id": "bd7d648a",
   "metadata": {},
   "outputs": [
    {
     "name": "stdout",
     "output_type": "stream",
     "text": [
      "-133.0\n",
      "[[-0.02255639 -0.10526316  0.2406015 ]\n",
      " [-0.01503759  0.26315789 -0.17293233]\n",
      " [ 0.19548872 -0.42105263  0.2481203 ]]\n",
      "[13.16893742 -5.88506522  1.7161278 ]\n"
     ]
    }
   ],
   "source": [
    "a= np.random.randint(1,11 , size= (3,3))\n",
    "det= np.linalg.det(a)\n",
    "inv= np.linalg.inv(a)\n",
    "eig= np.linalg.eigvals(a)\n",
    "print(det)\n",
    "print(inv)\n",
    "print(eig)"
   ]
  },
  {
   "cell_type": "code",
   "execution_count": 22,
   "id": "6bfea33d",
   "metadata": {},
   "outputs": [
    {
     "name": "stdout",
     "output_type": "stream",
     "text": [
      "Array 1:\n",
      "[[10  3  1]\n",
      " [ 3  6  8]]\n",
      "Array 2:\n",
      "[[ 6  3]\n",
      " [10  7]\n",
      " [ 6  1]]\n",
      "[[ 96  52]\n",
      " [126  59]]\n"
     ]
    }
   ],
   "source": [
    "array1 = np.random.randint(1, 11, size=(2, 3))\n",
    "array2 = np.random.randint(1, 11, size=(3, 2))\n",
    "print(\"Array 1:\")\n",
    "print(array1)\n",
    "print(\"Array 2:\")\n",
    "print(array2)\n",
    "\n",
    "matrix_product= np.dot(array1,array2)\n",
    "print(matrix_product)"
   ]
  },
  {
   "cell_type": "code",
   "execution_count": 24,
   "id": "09c47414",
   "metadata": {},
   "outputs": [
    {
     "name": "stdout",
     "output_type": "stream",
     "text": [
      "[[1 2 3]\n",
      " [4 5 6]\n",
      " [7 8 9]]\n",
      "[[1 2 3 4 5 6 7 8 9]]\n",
      "[[1]\n",
      " [2]\n",
      " [3]\n",
      " [4]\n",
      " [5]\n",
      " [6]\n",
      " [7]\n",
      " [8]\n",
      " [9]]\n"
     ]
    }
   ],
   "source": [
    "a= np.arange(1,10).reshape(3,3)\n",
    "b= a.reshape(1,9)\n",
    "c= a.reshape(9,1)\n",
    "print(a)\n",
    "print(b)\n",
    "print(c)"
   ]
  },
  {
   "cell_type": "code",
   "execution_count": 26,
   "id": "8e198d46",
   "metadata": {},
   "outputs": [
    {
     "name": "stdout",
     "output_type": "stream",
     "text": [
      "[[14 18 10  3 13]\n",
      " [ 7  1  2 12 11]\n",
      " [ 1 17  8  8  3]\n",
      " [ 8 16  7 19 17]\n",
      " [16  6 12 19 17]]\n",
      "[14 18 10  3 13  7  1  2 12 11  1 17  8  8  3  8 16  7 19 17 16  6 12 19\n",
      " 17]\n",
      "[[14 18 10  3 13]\n",
      " [ 7  1  2 12 11]\n",
      " [ 1 17  8  8  3]\n",
      " [ 8 16  7 19 17]\n",
      " [16  6 12 19 17]]\n"
     ]
    }
   ],
   "source": [
    "array = np.random.randint(1, 21, size=(5, 5))\n",
    "flatten= array.flatten()\n",
    "print(array)\n",
    "print(flatten)\n",
    "reshaped_array = flatten.reshape((5, 5))\n",
    "print(reshaped_array)"
   ]
  },
  {
   "cell_type": "code",
   "execution_count": 27,
   "id": "6545a8a1",
   "metadata": {},
   "outputs": [
    {
     "name": "stdout",
     "output_type": "stream",
     "text": [
      "[[ 3 16 13 16 18]\n",
      " [ 5 20 12  6 16]\n",
      " [16 10 17  8 19]\n",
      " [10 12  9  9 13]\n",
      " [ 6 18 13  6 15]]\n",
      "[ 3 18  6 15]\n"
     ]
    }
   ],
   "source": [
    "array = np.random.randint(1, 21, size=(5, 5))\n",
    "print(array)\n",
    "\n",
    "corners= array[[0, 0, -1, -1], [0, -1, 0, -1]]\n",
    "print(corners)"
   ]
  },
  {
   "cell_type": "code",
   "execution_count": 29,
   "id": "6eb2581e",
   "metadata": {},
   "outputs": [
    {
     "name": "stdout",
     "output_type": "stream",
     "text": [
      "[[ 4 16 10 10]\n",
      " [19 11 10 13]\n",
      " [10 13  4 13]\n",
      " [15  1 14 15]]\n",
      "[[ 4 10 10 10]\n",
      " [10 10 10 10]\n",
      " [10 10  4 10]\n",
      " [10  1 10 10]]\n"
     ]
    }
   ],
   "source": [
    "array = np.random.randint(1, 21, size=(4, 4))\n",
    "print(array)\n",
    "array[array>10]=10\n",
    "print(array)"
   ]
  },
  {
   "cell_type": "code",
   "execution_count": 2,
   "id": "4d9be00d",
   "metadata": {},
   "outputs": [
    {
     "name": "stdout",
     "output_type": "stream",
     "text": [
      "[('Alice', 25, 55.5) ('Bob', 30, 85.3) ('Charlie', 20, 65.2)]\n"
     ]
    }
   ],
   "source": [
    "data_type = [('name', 'U10'), ('age', 'i4'), ('weight', 'f4')]\n",
    "a= np.array([('Alice', 25, 55.5), ('Bob', 30, 85.3), ('Charlie', 20, 65.2)], dtype= data_type)\n",
    "print(a)"
   ]
  },
  {
   "cell_type": "code",
   "execution_count": 8,
   "id": "c100fa60",
   "metadata": {},
   "outputs": [
    {
     "name": "stdout",
     "output_type": "stream",
     "text": [
      "[(1, 2) (3, 4)]\n",
      "[[0. 2.]\n",
      " [2. 0.]]\n"
     ]
    }
   ],
   "source": [
    "data_type= [('x', 'i4'), ('y','i4')]\n",
    "a= np.array([(1,2),(3,4)], dtype= data_type)\n",
    "print(a)\n",
    "\n",
    "dist= np.sqrt((a['x'][:, np.newaxis]- a['x'])**2+ (a['y']- a['y'])**2)\n",
    "print(dist)"
   ]
  }
 ],
 "metadata": {
  "kernelspec": {
   "display_name": "Python 3",
   "language": "python",
   "name": "python3"
  },
  "language_info": {
   "codemirror_mode": {
    "name": "ipython",
    "version": 3
   },
   "file_extension": ".py",
   "mimetype": "text/x-python",
   "name": "python",
   "nbconvert_exporter": "python",
   "pygments_lexer": "ipython3",
   "version": "3.12.0"
  }
 },
 "nbformat": 4,
 "nbformat_minor": 5
}
